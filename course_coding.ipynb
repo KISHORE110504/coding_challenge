{
 "cells": [
  {
   "cell_type": "code",
   "execution_count": null,
   "metadata": {},
   "outputs": [],
   "source": [
    "# to find a missing number from the list/array\n",
    "def missingNumber(numbers):\n",
    "    n = len(numbers) + 1\n",
    "    sum1 = n * (n+1) // 2\n",
    "    total = sum(numbers)\n",
    "    missing_number = sum1 - total \n",
    "    print(missing_number)\n",
    "\n",
    "numbers = list(map(int, input(\"Enter the numbers separated by space: \").split()))\n",
    "\n",
    "missingNumber(numbers)"
   ]
  },
  {
   "cell_type": "code",
   "execution_count": null,
   "metadata": {},
   "outputs": [
    {
     "name": "stdout",
     "output_type": "stream",
     "text": [
      "1 3\n",
      "3 4\n"
     ]
    }
   ],
   "source": [
    "# to find sum of two pairs\n",
    "\n",
    "def twosum(nums, target):\n",
    "    for i in range(len(nums)):\n",
    "        for j in range(i+1, len(nums)):\n",
    "            if nums[i] == nums[j]:\n",
    "                continue\n",
    "            elif nums[i] + nums[j] == target:\n",
    "                print(i,j)\n",
    "\n",
    "mylist = [1,2,3,4,2,3,6,8]\n",
    "twosum(mylist,6)"
   ]
  },
  {
   "cell_type": "code",
   "execution_count": null,
   "metadata": {},
   "outputs": [
    {
     "name": "stdout",
     "output_type": "stream",
     "text": [
      "63\n"
     ]
    }
   ],
   "source": [
    "#Max Product of Two Integers\n",
    "#Find the maximum product of two integers in an array where all elements are positive.\n",
    "\n",
    "\n",
    "def max_product(arr):\n",
    "    max1, max2 = 0, 0\n",
    "    \n",
    "    for num in arr:\n",
    "        if num > max1:\n",
    "            max2 = max1\n",
    "            max1 = num\n",
    "        elif num > max2:\n",
    "            max2 = num\n",
    "            \n",
    "    return max1 * max2\n",
    "\n",
    "arr = [1,7,3,4,9,5]\n",
    "print(max_product(arr))\n"
   ]
  }
 ],
 "metadata": {
  "kernelspec": {
   "display_name": "Python 3",
   "language": "python",
   "name": "python3"
  },
  "language_info": {
   "codemirror_mode": {
    "name": "ipython",
    "version": 3
   },
   "file_extension": ".py",
   "mimetype": "text/x-python",
   "name": "python",
   "nbconvert_exporter": "python",
   "pygments_lexer": "ipython3",
   "version": "3.10.0"
  }
 },
 "nbformat": 4,
 "nbformat_minor": 2
}
