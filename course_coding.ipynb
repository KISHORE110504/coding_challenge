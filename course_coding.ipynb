{
 "cells": [
  {
   "cell_type": "code",
   "execution_count": null,
   "metadata": {},
   "outputs": [],
   "source": [
    "# to find a missing number from the list/array\n",
    "def missingNumber(numbers):\n",
    "    n = len(numbers) + 1\n",
    "    sum1 = n * (n+1) // 2\n",
    "    total = sum(numbers)\n",
    "    missing_number = sum1 - total \n",
    "    print(missing_number)\n",
    "\n",
    "numbers = list(map(int, input(\"Enter the numbers separated by space: \").split()))\n",
    "\n",
    "missingNumber(numbers)"
   ]
  },
  {
   "cell_type": "code",
   "execution_count": null,
   "metadata": {},
   "outputs": [
    {
     "name": "stdout",
     "output_type": "stream",
     "text": [
      "1 3\n",
      "3 4\n"
     ]
    }
   ],
   "source": [
    "# to find sum of two pairs\n",
    "\n",
    "def twosum(nums, target):\n",
    "    for i in range(len(nums)):\n",
    "        for j in range(i+1, len(nums)):\n",
    "            if nums[i] == nums[j]:\n",
    "                continue\n",
    "            elif nums[i] + nums[j] == target:\n",
    "                print(i,j)\n",
    "\n",
    "mylist = [1,2,3,4,2,3,6,8]\n",
    "twosum(mylist,6)"
   ]
  },
  {
   "cell_type": "code",
   "execution_count": null,
   "metadata": {},
   "outputs": [
    {
     "name": "stdout",
     "output_type": "stream",
     "text": [
      "63\n"
     ]
    }
   ],
   "source": [
    "#Max Product of Two Integers\n",
    "#Find the maximum product of two integers in an array where all elements are positive.\n",
    "\n",
    "\n",
    "def max_product(arr):\n",
    "    max1, max2 = 0, 0\n",
    "    \n",
    "    for num in arr:\n",
    "        if num > max1:\n",
    "            max2 = max1\n",
    "            max1 = num\n",
    "        elif num > max2:\n",
    "            max2 = num\n",
    "            \n",
    "    return max1 * max2\n",
    "\n",
    "arr = [1,7,3,4,9,5]\n",
    "print(max_product(arr))\n"
   ]
  },
  {
   "cell_type": "code",
   "execution_count": null,
   "metadata": {},
   "outputs": [],
   "source": [
    "#Middle Function\n",
    "#Write a function called middle that takes a list and returns a new list that contains all but the first and last elements.\n",
    "\n",
    "def middle(lst):\n",
    "    return lst[1:-1]\n",
    "    \n",
    "\n",
    "myList =[1,2,3,4]\n",
    "print(middle(myList))"
   ]
  },
  {
   "cell_type": "code",
   "execution_count": null,
   "metadata": {},
   "outputs": [],
   "source": [
    "#2D Lists\n",
    "#Given 2D list calculate the sum of diagonal elements.\n",
    "\n",
    "def diagonal_sum(matrix):\n",
    "    total = 0\n",
    "    for i in range(len(matrix)):\n",
    "        total += matrix[i][i]\n",
    "    return total\n",
    "\n",
    "myList2D= [[1,2,3],[4,5,6],[7,8,9]] \n",
    "\n",
    "diagonal_sum(myList2D)"
   ]
  },
  {
   "cell_type": "code",
   "execution_count": null,
   "metadata": {},
   "outputs": [],
   "source": [
    "#Best Score\n",
    "#Given a list, write a function to get first, second best scores from the list.\n",
    "\n",
    "#List may contain duplicates.\n",
    "\n",
    "\n",
    "def first_second(my_list):\n",
    "    best1, best2 = 0,0\n",
    "    \n",
    "    for num in my_list:\n",
    "        if num > best1:\n",
    "            best2 = best1\n",
    "            best1 = num\n",
    "        elif num > best2 and num != best1:\n",
    "            best2 = num\n",
    "    return best1, best2\n",
    "    \n",
    "myList = [84,85,86,87,85,90,85,83,23,45,84,1,2,0]\n",
    "first_second(myList)\n"
   ]
  },
  {
   "cell_type": "code",
   "execution_count": 7,
   "metadata": {},
   "outputs": [
    {
     "name": "stdout",
     "output_type": "stream",
     "text": [
      "[1, 2, 3, 4, 5]\n"
     ]
    }
   ],
   "source": [
    "# Duplicate Number\n",
    "# Write a function to remove the duplicate numbers on given integer array/list.\n",
    "\n",
    "def remove_duplicates(lst):\n",
    "    unique_lst = []\n",
    "    seen = set()\n",
    "    \n",
    "    for num in lst:\n",
    "        if  num not in seen:\n",
    "            unique_lst.append(num)\n",
    "        seen.add(num)\n",
    "    return unique_lst\n",
    "\n",
    "my_lst = [1, 1, 2, 2, 3, 4, 5]\n",
    "print(remove_duplicates(my_lst))"
   ]
  },
  {
   "cell_type": "code",
   "execution_count": 2,
   "metadata": {},
   "outputs": [
    {
     "name": "stdout",
     "output_type": "stream",
     "text": [
      "['2+5', '4+3', '3+4', '-2+9']\n"
     ]
    }
   ],
   "source": [
    "#Pairs\n",
    "#Write a function to find all pairs of an integer array whose sum is equal to a given number. Do not consider commutative pairs.\n",
    "\n",
    "def pair_sum(mylist,sum):\n",
    "    result = []\n",
    "    \n",
    "    for i in range(len(mylist)):\n",
    "        for j in range(i+1,len(mylist)):\n",
    "            if mylist[i] + mylist[j] == sum:\n",
    "                result.append(f\"{mylist[i]}+{mylist[j]}\")\n",
    "    return result\n",
    "\n",
    "my_list = [2, 4, 3, 5, 6, -2, 4, 7, 8, 9]\n",
    "print(pair_sum(my_list,7))"
   ]
  },
  {
   "cell_type": "code",
   "execution_count": 8,
   "metadata": {},
   "outputs": [
    {
     "data": {
      "text/plain": [
       "True"
      ]
     },
     "execution_count": 8,
     "metadata": {},
     "output_type": "execute_result"
    }
   ],
   "source": [
    "# Contains Duplicate\n",
    "# Given an integer array nums, return true if any value appears at least twice in the array, and return false if every element is distinct.\n",
    "\n",
    "def contains_duplicate(arr):\n",
    "    seen = set()\n",
    "    \n",
    "    for num in nums:\n",
    "        if num in seen:\n",
    "            return True\n",
    "        seen.add(num)\n",
    "    return False   \n",
    "    \n",
    "nums = [1,2,3,1]\n",
    "contains_duplicate(nums)"
   ]
  },
  {
   "cell_type": "markdown",
   "metadata": {},
   "source": [
    "Rotate Matrix/ Image - LeetCode 48\n",
    "You are given an n x n 2D matrix representing an image, rotate the image by 90 degrees (clockwise).\n",
    "\n",
    "You have to rotate the image in-place, which means you have to modify the input 2D matrix directly.\n",
    "\n",
    "DO NOT allocate another 2D matrix and do the rotation.\n",
    "\n"
   ]
  },
  {
   "cell_type": "code",
   "execution_count": 9,
   "metadata": {},
   "outputs": [
    {
     "name": "stdout",
     "output_type": "stream",
     "text": [
      "[[7, 4, 1], [8, 5, 2], [9, 6, 3]]\n"
     ]
    }
   ],
   "source": [
    "def rotate(matrix):\n",
    "    n = len(matrix)\n",
    "    \n",
    "    for i in range(n):\n",
    "        for j in range(i, n):\n",
    "            matrix[i][j],matrix[j][i] = matrix[j][i],matrix[i][j]\n",
    "    \n",
    "    for row in matrix:\n",
    "        row.reverse()\n",
    "        \n",
    "    return matrix\n",
    "\n",
    "matrix = [[1,2,3],[4,5,6],[7,8,9]]\n",
    "print(rotate(matrix))\n",
    "            "
   ]
  },
  {
   "cell_type": "markdown",
   "metadata": {},
   "source": [
    "Define a function with takes two dictionaries as parameters and merge them and sum the values of common keys."
   ]
  },
  {
   "cell_type": "code",
   "execution_count": 9,
   "metadata": {},
   "outputs": [
    {
     "data": {
      "text/plain": [
       "{'a': 1, 'b': 5, 'c': 7, 'd': 5}"
      ]
     },
     "execution_count": 9,
     "metadata": {},
     "output_type": "execute_result"
    }
   ],
   "source": [
    "def merge_dicts(dict1, dict2):\n",
    "    result = dict1.copy()\n",
    "    for key, value in dict2.items():\n",
    "        result[key] = result.get(key, 0) + value\n",
    "    return result\n",
    "\n",
    "dict1 = {'a': 1, 'b': 2, 'c': 3}\n",
    "dict2 = {'b': 3, 'c': 4, 'd': 5}\n",
    "merge_dicts(dict1, dict2)"
   ]
  },
  {
   "cell_type": "markdown",
   "metadata": {},
   "source": [
    "Define a function which takes a dictionary as a parameter and returns the key with the highest value in a dictionary."
   ]
  },
  {
   "cell_type": "code",
   "execution_count": 13,
   "metadata": {},
   "outputs": [
    {
     "data": {
      "text/plain": [
       "'b'"
      ]
     },
     "execution_count": 13,
     "metadata": {},
     "output_type": "execute_result"
    }
   ],
   "source": [
    "\n",
    "def max_value_key(my_dict):\n",
    "    return max(my_dict, key = my_dict.get)\n",
    "\n",
    "my_dict = {'a': 5, 'b': 9, 'c': 2}\n",
    "max_value_key(my_dict)\n"
   ]
  },
  {
   "cell_type": "markdown",
   "metadata": {},
   "source": [
    "Reverse Key-Value Pairs\n",
    "Define a function which takes as a parameter dictionary and returns a dictionary in which everse the key-value pairs are reversed."
   ]
  },
  {
   "cell_type": "code",
   "execution_count": 14,
   "metadata": {},
   "outputs": [
    {
     "data": {
      "text/plain": [
       "{1: 'a', 2: 'b', 3: 'c'}"
      ]
     },
     "execution_count": 14,
     "metadata": {},
     "output_type": "execute_result"
    }
   ],
   "source": [
    "def reverse_dict(my_dict):\n",
    "    inverse = {v : k for k, v in my_dict.items()}\n",
    "    return(inverse)\n",
    "\n",
    "my_dict = {'a': 1, 'b': 2, 'c': 3}\n",
    "reverse_dict(my_dict)\n"
   ]
  },
  {
   "cell_type": "markdown",
   "metadata": {},
   "source": [
    "Define a function that takes a dictionary as a parameter and returns a dictionary with elements based on a condition."
   ]
  },
  {
   "cell_type": "code",
   "execution_count": 16,
   "metadata": {},
   "outputs": [
    {
     "name": "stdout",
     "output_type": "stream",
     "text": [
      "{'b': 2, 'd': 4}\n"
     ]
    }
   ],
   "source": [
    "\n",
    "def filter_dict(my_dict, condition):\n",
    "    return {k:v for k,v in my_dict.items() if condition(k,v)}\n",
    "\n",
    "my_dict = {'a': 1, 'b': 2, 'c': 3, 'd': 4} \n",
    "filtered_dict = filter_dict(my_dict, lambda k, v: v % 2 == 0) \n",
    "print(filtered_dict)"
   ]
  },
  {
   "cell_type": "markdown",
   "metadata": {},
   "source": [
    "Define a function which takes two lists as parameters and check if two given lists have the same frequency of elements."
   ]
  },
  {
   "cell_type": "code",
   "execution_count": 19,
   "metadata": {},
   "outputs": [
    {
     "name": "stdout",
     "output_type": "stream",
     "text": [
      "False\n"
     ]
    }
   ],
   "source": [
    "def check_same_frequency(list1, list2):\n",
    "    def count_elements(lst):\n",
    "        counter = {}\n",
    "        for element in lst:\n",
    "            counter[element] = counter.get(element, 0) + 1\n",
    "        return counter\n",
    "    return count_elements(list1) == count_elements(list2)\n",
    "\n",
    "list1 = [1, 2, 3, 2, 1]\n",
    "list2 = [3, 1, 2, 1, 3]\n",
    "print(check_same_frequency(list1, list2))\n"
   ]
  },
  {
   "cell_type": "markdown",
   "metadata": {},
   "source": [
    "Palindrome Number\n",
    "Given an integer x, return true if x is a palindrome, and false otherwise.\n",
    "\n",
    "Example 1:\n",
    "Input: x = 121\n",
    "Output: true"
   ]
  },
  {
   "cell_type": "code",
   "execution_count": 20,
   "metadata": {},
   "outputs": [],
   "source": [
    "class Solution:\n",
    "    def isPalindrome(self, x: int) -> bool:\n",
    "        if x < 0:\n",
    "            return False\n",
    "        \n",
    "        reversed_num = 0\n",
    "        temp = x\n",
    "\n",
    "        while temp != 0:\n",
    "            digit = temp % 10\n",
    "            reversed_num = reversed_num * 10 + digit\n",
    "            temp //= 10\n",
    "\n",
    "        return reversed_num == x\n"
   ]
  }
 ],
 "metadata": {
  "kernelspec": {
   "display_name": "Python 3",
   "language": "python",
   "name": "python3"
  },
  "language_info": {
   "codemirror_mode": {
    "name": "ipython",
    "version": 3
   },
   "file_extension": ".py",
   "mimetype": "text/x-python",
   "name": "python",
   "nbconvert_exporter": "python",
   "pygments_lexer": "ipython3",
   "version": "3.10.0"
  }
 },
 "nbformat": 4,
 "nbformat_minor": 2
}
